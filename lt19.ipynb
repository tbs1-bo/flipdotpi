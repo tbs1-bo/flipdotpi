{
 "cells": [
  {
   "cell_type": "markdown",
   "metadata": {},
   "source": [
    "# Simulator erzeugen"
   ]
  },
  {
   "cell_type": "code",
   "execution_count": 1,
   "metadata": {},
   "outputs": [
    {
     "name": "stdout",
     "output_type": "stream",
     "text": [
      "pygame 1.9.6\n",
      "Hello from the pygame community. https://www.pygame.org/contribute.html\n"
     ]
    }
   ],
   "source": [
    "import flipdotsim\n",
    "\n",
    "fdd = flipdotsim.FlipDotSim(width=5, height=5, fps=30)"
   ]
  },
  {
   "cell_type": "markdown",
   "metadata": {},
   "source": [
    "Pixel setzen..."
   ]
  },
  {
   "cell_type": "code",
   "execution_count": 2,
   "metadata": {},
   "outputs": [],
   "source": [
    "fdd.px(0, 0, True)\n",
    "fdd.px(1, 1, True)"
   ]
  },
  {
   "cell_type": "markdown",
   "metadata": {},
   "source": [
    "... und anzeigen"
   ]
  },
  {
   "cell_type": "code",
   "execution_count": 3,
   "metadata": {},
   "outputs": [],
   "source": [
    "fdd.show()"
   ]
  },
  {
   "cell_type": "code",
   "execution_count": 4,
   "metadata": {},
   "outputs": [],
   "source": [
    "fdd.close()"
   ]
  },
  {
   "cell_type": "markdown",
   "metadata": {},
   "source": [
    "## Plasma-Demo\n",
    "\n",
    "Quelle: https://www.bidouille.org/prog/plasma"
   ]
  },
  {
   "cell_type": "code",
   "execution_count": 5,
   "metadata": {},
   "outputs": [],
   "source": [
    "import time\n",
    "import math\n",
    "\n",
    "fdd = flipdotsim.FlipDotSim(width=20, height=20)"
   ]
  },
  {
   "cell_type": "code",
   "execution_count": 6,
   "metadata": {},
   "outputs": [],
   "source": [
    "def handle_px(x, y, t):\n",
    "    v = math.sin(1*(0.5*x*math.sin(t/2) +\n",
    "                    0.5*y*math.cos(t/3)) + t)\n",
    "\n",
    "    v = (v+1.0) / 2.0 # scale sin values from [-1, +1] to range [0, 1]\n",
    "    return v > 0.5\n",
    "\n",
    "def draw_frame(disp):\n",
    "    for x in range(disp.width):\n",
    "        for y in range(disp.height):\n",
    "            disp.px(x, y, \n",
    "                    handle_px(x, y, time.time()))\n",
    "    disp.show()"
   ]
  },
  {
   "cell_type": "code",
   "execution_count": 10,
   "metadata": {},
   "outputs": [],
   "source": [
    "draw_frame(fdd)"
   ]
  },
  {
   "cell_type": "code",
   "execution_count": 16,
   "metadata": {},
   "outputs": [],
   "source": [
    "for i in range(200):\n",
    "    draw_frame(fdd)"
   ]
  },
  {
   "cell_type": "code",
   "execution_count": 12,
   "metadata": {},
   "outputs": [],
   "source": [
    "fdd.close()"
   ]
  },
  {
   "cell_type": "markdown",
   "metadata": {},
   "source": [
    "# Remote Display"
   ]
  },
  {
   "cell_type": "code",
   "execution_count": 52,
   "metadata": {},
   "outputs": [
    {
     "name": "stdout",
     "output_type": "stream",
     "text": [
      "This is nc from the netcat-openbsd package. An alternative nc is available\r\n",
      "in the netcat-traditional package.\r\n",
      "usage: nc [-46bCDdhjklnrStUuvZz] [-I length] [-i interval] [-O length]\r\n",
      "\t  [-P proxy_username] [-p source_port] [-q seconds] [-s source]\r\n",
      "\t  [-T toskeyword] [-V rtable] [-w timeout] [-X proxy_protocol]\r\n",
      "\t  [-x proxy_address[:port]] [destination] [port]\r\n"
     ]
    }
   ],
   "source": [
    "! nc"
   ]
  },
  {
   "cell_type": "code",
   "execution_count": 55,
   "metadata": {},
   "outputs": [
    {
     "name": "stdout",
     "output_type": "stream",
     "text": [
      "nc: getaddrinfo: Name or service not known\r\n"
     ]
    }
   ],
   "source": [
    "! echo size | nc taylorpi.local 10101"
   ]
  },
  {
   "cell_type": "code",
   "execution_count": 50,
   "metadata": {},
   "outputs": [
    {
     "name": "stdout",
     "output_type": "stream",
     "text": [
      "nc: getaddrinfo: Name or service not known\r\n"
     ]
    }
   ],
   "source": [
    "! echo 11001011 | nc taylorpi.local 10101"
   ]
  },
  {
   "cell_type": "markdown",
   "metadata": {},
   "source": [
    "## Ansteuerung mit Python"
   ]
  },
  {
   "cell_type": "code",
   "execution_count": 13,
   "metadata": {},
   "outputs": [
    {
     "name": "stdout",
     "output_type": "stream",
     "text": [
      "Remote display will send data to localhost on port 10101\n"
     ]
    }
   ],
   "source": [
    "import net  # from flipflapflop\n",
    "\n",
    "fdd = net.RemoteDisplay(\n",
    "    # host='taylorpi.local', \n",
    "    host='localhost',\n",
    "    width=28, height=13)\n",
    "    #width=126, height=16)"
   ]
  },
  {
   "cell_type": "code",
   "execution_count": 27,
   "metadata": {},
   "outputs": [],
   "source": [
    "draw_frame(fdd)"
   ]
  },
  {
   "cell_type": "code",
   "execution_count": 28,
   "metadata": {},
   "outputs": [],
   "source": [
    "for i in range(50):\n",
    "    draw_frame(fdd)\n",
    "    time.sleep(0.1)"
   ]
  },
  {
   "cell_type": "code",
   "execution_count": null,
   "metadata": {},
   "outputs": [],
   "source": []
  }
 ],
 "metadata": {
  "kernelspec": {
   "display_name": "Python 3",
   "language": "python",
   "name": "python3"
  },
  "language_info": {
   "codemirror_mode": {
    "name": "ipython",
    "version": 3
   },
   "file_extension": ".py",
   "mimetype": "text/x-python",
   "name": "python",
   "nbconvert_exporter": "python",
   "pygments_lexer": "ipython3",
   "version": "3.5.2"
  }
 },
 "nbformat": 4,
 "nbformat_minor": 2
}
