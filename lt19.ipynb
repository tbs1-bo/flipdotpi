{
 "cells": [
  {
   "cell_type": "markdown",
   "metadata": {},
   "source": [
    "# Simulator erzeugen"
   ]
  },
  {
   "cell_type": "code",
   "execution_count": 2,
   "metadata": {},
   "outputs": [],
   "source": [
    "import flipdotsim\n",
    "\n",
    "fdd = flipdotsim.FlipDotSim(width=10, height=10, fps=30)"
   ]
  },
  {
   "cell_type": "markdown",
   "metadata": {},
   "source": [
    "Pixel setzen..."
   ]
  },
  {
   "cell_type": "code",
   "execution_count": 3,
   "metadata": {},
   "outputs": [],
   "source": [
    "fdd.px(0, 0, True)\n",
    "fdd.px(1, 1, True)"
   ]
  },
  {
   "cell_type": "markdown",
   "metadata": {},
   "source": [
    "... und anzeigen"
   ]
  },
  {
   "cell_type": "code",
   "execution_count": 4,
   "metadata": {},
   "outputs": [],
   "source": [
    "fdd.show()"
   ]
  },
  {
   "cell_type": "code",
   "execution_count": 5,
   "metadata": {},
   "outputs": [],
   "source": [
    "fdd.close()"
   ]
  },
  {
   "cell_type": "markdown",
   "metadata": {},
   "source": [
    "## Plasma-Demo\n",
    "\n",
    "Quelle: https://www.bidouille.org/prog/plasma"
   ]
  },
  {
   "cell_type": "code",
   "execution_count": 8,
   "metadata": {},
   "outputs": [],
   "source": [
    "import time\n",
    "from math import sin, cos\n",
    "\n",
    "fdd = flipdotsim.FlipDotSim(width=20, height=20)"
   ]
  },
  {
   "cell_type": "code",
   "execution_count": 9,
   "metadata": {},
   "outputs": [],
   "source": [
    "def handle_px(x, y, t):\n",
    "    v = math.sin(1*(0.5*x*sin(t/2) +\n",
    "                    0.5*y*cos(t/3)) + t)\n",
    "\n",
    "    v = (v+1.0) / 2.0 # scale sin values from [-1, +1] to range [0, 1]\n",
    "    return v > 0.5"
   ]
  },
  {
   "cell_type": "code",
   "execution_count": 10,
   "metadata": {},
   "outputs": [],
   "source": [
    "def draw_frame(disp):\n",
    "    for x in range(disp.width):\n",
    "        for y in range(disp.height):\n",
    "            disp.px(x, y, \n",
    "                    handle_px(x, y, time.time()))\n",
    "    disp.show()"
   ]
  },
  {
   "cell_type": "code",
   "execution_count": 23,
   "metadata": {},
   "outputs": [],
   "source": [
    "draw_frame(fdd)"
   ]
  },
  {
   "cell_type": "code",
   "execution_count": 24,
   "metadata": {},
   "outputs": [],
   "source": [
    "for i in range(200):\n",
    "    draw_frame(fdd)"
   ]
  },
  {
   "cell_type": "code",
   "execution_count": 25,
   "metadata": {},
   "outputs": [],
   "source": [
    "fdd.close()"
   ]
  },
  {
   "cell_type": "markdown",
   "metadata": {},
   "source": [
    "# Remote Display"
   ]
  },
  {
   "cell_type": "code",
   "execution_count": 27,
   "metadata": {},
   "outputs": [
    {
     "name": "stdout",
     "output_type": "stream",
     "text": [
      "GNU netcat 0.7.1, a rewrite of the famous networking tool.\r\n",
      "Basic usages:\r\n",
      "connect to somewhere:  nc [options] hostname port [port] ...\r\n",
      "listen for inbound:    nc -l -p port [options] [hostname] [port] ...\r\n",
      "tunnel to somewhere:   nc -L hostname:port -p port [options]\r\n",
      "\r\n",
      "Mandatory arguments to long options are mandatory for short options too.\r\n",
      "Options:\r\n",
      "  -c, --close                close connection on EOF from stdin\r\n",
      "  -e, --exec=PROGRAM         program to exec after connect\r\n",
      "  -g, --gateway=LIST         source-routing hop point[s], up to 8\r\n",
      "  -G, --pointer=NUM          source-routing pointer: 4, 8, 12, ...\r\n",
      "  -h, --help                 display this help and exit\r\n",
      "  -i, --interval=SECS        delay interval for lines sent, ports scanned\r\n",
      "  -l, --listen               listen mode, for inbound connects\r\n",
      "  -L, --tunnel=ADDRESS:PORT  forward local port to remote address\r\n",
      "  -n, --dont-resolve         numeric-only IP addresses, no DNS\r\n",
      "  -o, --output=FILE          output hexdump traffic to FILE (implies -x)\r\n",
      "  -p, --local-port=NUM       local port number\r\n",
      "  -r, --randomize            randomize local and remote ports\r\n",
      "  -s, --source=ADDRESS       local source address (ip or hostname)\r\n",
      "  -t, --tcp                  TCP mode (default)\r\n",
      "  -T, --telnet               answer using TELNET negotiation\r\n",
      "  -u, --udp                  UDP mode\r\n",
      "  -v, --verbose              verbose (use twice to be more verbose)\r\n",
      "  -V, --version              output version information and exit\r\n",
      "  -x, --hexdump              hexdump incoming and outgoing traffic\r\n",
      "  -w, --wait=SECS            timeout for connects and final net reads\r\n",
      "  -z, --zero                 zero-I/O mode (used for scanning)\r\n",
      "\r\n",
      "Remote port number can also be specified as range.  Example: '1-1024'\r\n",
      "\r\n"
     ]
    }
   ],
   "source": [
    "! nc --help"
   ]
  },
  {
   "cell_type": "code",
   "execution_count": 55,
   "metadata": {},
   "outputs": [
    {
     "name": "stdout",
     "output_type": "stream",
     "text": [
      "nc: getaddrinfo: Name or service not known\r\n"
     ]
    }
   ],
   "source": [
    "! echo size | nc taylorpi.local 10101"
   ]
  },
  {
   "cell_type": "code",
   "execution_count": 50,
   "metadata": {},
   "outputs": [
    {
     "name": "stdout",
     "output_type": "stream",
     "text": [
      "nc: getaddrinfo: Name or service not known\r\n"
     ]
    }
   ],
   "source": [
    "! echo 11001011 | nc taylorpi.local 10101"
   ]
  },
  {
   "cell_type": "markdown",
   "metadata": {},
   "source": [
    "## Ansteuerung mit Python"
   ]
  },
  {
   "cell_type": "code",
   "execution_count": 13,
   "metadata": {},
   "outputs": [
    {
     "name": "stdout",
     "output_type": "stream",
     "text": [
      "Remote display will send data to localhost on port 10101\n"
     ]
    }
   ],
   "source": [
    "import net  # from flipflapflop\n",
    "\n",
    "fdd = net.RemoteDisplay(\n",
    "    # host='taylorpi.local', \n",
    "    host='localhost',\n",
    "    width=28, height=13)\n",
    "    #width=126, height=16)"
   ]
  },
  {
   "cell_type": "code",
   "execution_count": 27,
   "metadata": {},
   "outputs": [],
   "source": [
    "draw_frame(fdd)"
   ]
  },
  {
   "cell_type": "code",
   "execution_count": 28,
   "metadata": {},
   "outputs": [],
   "source": [
    "for i in range(50):\n",
    "    draw_frame(fdd)\n",
    "    time.sleep(0.1)"
   ]
  },
  {
   "cell_type": "markdown",
   "metadata": {},
   "source": [
    "# Dokumentation, Quellen\n",
    "\n",
    "* https://github.com/tbs1-bo/flipflapflop\n",
    "\n",
    "* https://tbs1-bo.github.io/flipflapflop"
   ]
  },
  {
   "cell_type": "code",
   "execution_count": null,
   "metadata": {},
   "outputs": [],
   "source": []
  }
 ],
 "metadata": {
  "kernelspec": {
   "display_name": "Python 3",
   "language": "python",
   "name": "python3"
  },
  "language_info": {
   "codemirror_mode": {
    "name": "ipython",
    "version": 3
   },
   "file_extension": ".py",
   "mimetype": "text/x-python",
   "name": "python",
   "nbconvert_exporter": "python",
   "pygments_lexer": "ipython3",
   "version": "3.7.4"
  }
 },
 "nbformat": 4,
 "nbformat_minor": 2
}
